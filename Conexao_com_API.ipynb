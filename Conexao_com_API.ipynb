{
 "cells": [
  {
   "cell_type": "markdown",
   "id": "257b5287",
   "metadata": {},
   "source": [
    "# Sistema de conexão com a API\n",
    "\n"
   ]
  },
  {
   "cell_type": "code",
   "execution_count": 11,
   "id": "fbb2befc",
   "metadata": {},
   "outputs": [],
   "source": [
    "# Conexões\n",
    "\n",
    "import requests"
   ]
  },
  {
   "cell_type": "code",
   "execution_count": 20,
   "id": "86e6ac4b",
   "metadata": {},
   "outputs": [
    {
     "data": {
      "text/plain": [
       "{'Valor_Aluguel': '[1642.41526101]'}"
      ]
     },
     "execution_count": 20,
     "metadata": {},
     "output_type": "execute_result"
    }
   ],
   "source": [
    "# Local da URL\n",
    "# como foi configurado na aplicação em Flask, os parametros que forem enviados na URL irão pra função\n",
    "# os parametros de area, quartos e etc serão passados da primeira linha do dataset real, para teste\n",
    "\n",
    "URL = 'http://127.0.0.1:5000/API_preditivo/25;2;4;0;0;0;0;0;85'\n",
    "\n",
    "# Acessar a conexão\n",
    "\n",
    "Consulta = requests.get(URL)\n",
    "\n",
    "# Buscar Info\n",
    "\n",
    "Resposta = Consulta.json()\n",
    "\n",
    "# Retorno\n",
    "Resposta"
   ]
  },
  {
   "cell_type": "markdown",
   "id": "cbde29df",
   "metadata": {},
   "source": [
    "O requests acessou a URL, leu o que tinha nela e devolveu.\n",
    "A conexão aqui está funcionando"
   ]
  },
  {
   "cell_type": "code",
   "execution_count": null,
   "id": "e3bcb9dd",
   "metadata": {},
   "outputs": [],
   "source": []
  },
  {
   "cell_type": "code",
   "execution_count": null,
   "id": "c2974540",
   "metadata": {},
   "outputs": [],
   "source": []
  }
 ],
 "metadata": {
  "kernelspec": {
   "display_name": "Python 3 (ipykernel)",
   "language": "python",
   "name": "python3"
  },
  "language_info": {
   "codemirror_mode": {
    "name": "ipython",
    "version": 3
   },
   "file_extension": ".py",
   "mimetype": "text/x-python",
   "name": "python",
   "nbconvert_exporter": "python",
   "pygments_lexer": "ipython3",
   "version": "3.9.7"
  }
 },
 "nbformat": 4,
 "nbformat_minor": 5
}

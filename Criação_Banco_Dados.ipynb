{
 "cells": [
  {
   "cell_type": "code",
   "execution_count": 1,
   "id": "de1a9cc0",
   "metadata": {},
   "outputs": [],
   "source": [
    "# Biblioteca para banco de dados\n",
    "\n",
    "import sqlite3"
   ]
  },
  {
   "cell_type": "code",
   "execution_count": 2,
   "id": "541012c6",
   "metadata": {},
   "outputs": [],
   "source": [
    "# Criar o banco\n",
    "# Esse comando cria um banco, e se já existir, ele faz a conexão\n",
    "\n",
    "Conexao_Banco = sqlite3.connect('banco_dados_API.db')"
   ]
  },
  {
   "cell_type": "code",
   "execution_count": 3,
   "id": "43dec510",
   "metadata": {},
   "outputs": [],
   "source": [
    "# Apontar para o banco\n",
    "\n",
    "Cursor = Conexao_Banco.cursor()"
   ]
  },
  {
   "cell_type": "markdown",
   "id": "fd3ed4aa",
   "metadata": {},
   "source": [
    "Query\n",
    "Cada vez que rodar a API terá o ID único (autoincrement)\n",
    "As informações de uso da API irão para esse banco de dados\n",
    "\n",
    "query_criar_banco = '''\n",
    "\n",
    "CREATE TABLE Log_API (\n",
    "    id INTEGER NOT NULL PRIMARY KEY AUTOINCREMENT,\n",
    "    inputs TEXT,\n",
    "    inicio TEXT,\n",
    "    fim TEXT,\n",
    "    processamento TEXT\n",
    ")\n",
    "\n",
    "'''\n",
    "\n",
    "Cursor.execute( query_criar_banco )"
   ]
  },
  {
   "cell_type": "code",
   "execution_count": null,
   "id": "28351abe",
   "metadata": {},
   "outputs": [],
   "source": [
    "#Inserir\n",
    "\n",
    "query_inserir = '''\n",
    "\n",
    "    INSERT INTO Log_API (Inputs, Inicio, Fim, Processamento)\n",
    "    VALUES ('25;1;1;0;0;0;0;0;84', '01', '02', '03')\n",
    "\n",
    "'''\n",
    "\n",
    "Cursor.execute(query_inserir)\n",
    "\n",
    "Conexao_Banco.commit()"
   ]
  },
  {
   "cell_type": "code",
   "execution_count": 5,
   "id": "a76a2757",
   "metadata": {},
   "outputs": [
    {
     "data": {
      "text/plain": [
       "[(13, '25;1;1;0;0;0;0;0;84', '01', '02', '03'),\n",
       " (14,\n",
       "  ';25.0;1.0;1.0;0.0;0.0;0.0;0.0;0.0;82.0;[1533.6732933]',\n",
       "  '2023-09-14 18:45:49.316767',\n",
       "  '2023-09-14 18:45:49.325740',\n",
       "  '0:00:00.008973'),\n",
       " (15,\n",
       "  ';25.0;1.0;1.0;0.0;0.0;0.0;0.0;0.0;85.0;[1533.6732933]',\n",
       "  '2023-09-14 18:45:55.940453',\n",
       "  '2023-09-14 18:45:55.949391',\n",
       "  '0:00:00.008938'),\n",
       " (16,\n",
       "  ';25.0;2.0;4.0;0.0;0.0;0.0;0.0;0.0;85.0;[1642.41526101]',\n",
       "  '2023-09-14 18:46:03.901454',\n",
       "  '2023-09-14 18:46:03.909472',\n",
       "  '0:00:00.008018')]"
      ]
     },
     "execution_count": 5,
     "metadata": {},
     "output_type": "execute_result"
    }
   ],
   "source": [
    "# Consultar\n",
    "\n",
    "query_consulta = '''\n",
    "\n",
    "SELECT * FROM Log_API\n",
    "\n",
    "'''\n",
    "\n",
    "Cursor.execute(query_consulta).fetchall() #vai retornar os valores"
   ]
  },
  {
   "cell_type": "code",
   "execution_count": null,
   "id": "28797986",
   "metadata": {},
   "outputs": [],
   "source": [
    "#query_delete = '''\n",
    "\n",
    "#DELETE FROM Log_API;\n",
    "\n",
    "#'''\n",
    "#Cursor.execute(query_delete).fetchall()"
   ]
  }
 ],
 "metadata": {
  "kernelspec": {
   "display_name": "Python 3 (ipykernel)",
   "language": "python",
   "name": "python3"
  },
  "language_info": {
   "codemirror_mode": {
    "name": "ipython",
    "version": 3
   },
   "file_extension": ".py",
   "mimetype": "text/x-python",
   "name": "python",
   "nbconvert_exporter": "python",
   "pygments_lexer": "ipython3",
   "version": "3.9.7"
  }
 },
 "nbformat": 4,
 "nbformat_minor": 5
}
